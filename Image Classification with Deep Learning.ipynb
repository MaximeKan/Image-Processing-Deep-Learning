{
 "cells": [
  {
   "cell_type": "markdown",
   "metadata": {},
   "source": [
    "# Image Classification, CNN"
   ]
  },
  {
   "cell_type": "code",
   "execution_count": 1,
   "metadata": {},
   "outputs": [
    {
     "name": "stderr",
     "output_type": "stream",
     "text": [
      "/home/marianne/anaconda/envs/py36/lib/python3.6/site-packages/h5py/__init__.py:36: FutureWarning: Conversion of the second argument of issubdtype from `float` to `np.floating` is deprecated. In future, it will be treated as `np.float64 == np.dtype(float).type`.\n",
      "  from ._conv import register_converters as _register_converters\n",
      "Using TensorFlow backend.\n"
     ]
    }
   ],
   "source": [
    "from keras.models import Sequential\n",
    "from keras.layers import Dense, Activation, Dropout, Conv2D, MaxPooling2D, Flatten, BatchNormalization\n",
    "from keras.utils import to_categorical\n",
    "from keras.wrappers.scikit_learn import KerasClassifier, KerasRegressor\n",
    "from keras.datasets import mnist\n",
    "from keras.applications.vgg16 import VGG16\n",
    "from keras.preprocessing import image\n",
    "from keras.applications.vgg16 import preprocess_input"
   ]
  },
  {
   "cell_type": "code",
   "execution_count": 2,
   "metadata": {
    "collapsed": true
   },
   "outputs": [],
   "source": [
    "from sklearn.model_selection import train_test_split, GridSearchCV, StratifiedShuffleSplit,cross_val_score\n",
    "from sklearn.svm import LinearSVC"
   ]
  },
  {
   "cell_type": "code",
   "execution_count": 3,
   "metadata": {
    "collapsed": true
   },
   "outputs": [],
   "source": [
    "import numpy as np\n",
    "import pandas as pd\n",
    "import matplotlib.pyplot as plt\n",
    "%matplotlib inline\n",
    "import scipy.io as sio\n",
    "from os import walk"
   ]
  },
  {
   "cell_type": "markdown",
   "metadata": {},
   "source": [
    "# Multilayer perceptron - MNIST"
   ]
  },
  {
   "cell_type": "markdown",
   "metadata": {},
   "source": [
    "Classification using a multilayer perceptron for digit recognition"
   ]
  },
  {
   "cell_type": "code",
   "execution_count": 32,
   "metadata": {},
   "outputs": [
    {
     "name": "stdout",
     "output_type": "stream",
     "text": [
      "60000 train samples\n",
      "10000 test samples\n"
     ]
    }
   ],
   "source": [
    "(X_train, y_train), (X_test, y_test) = mnist.load_data()\n",
    "X_train = X_train.reshape(60000, 784)\n",
    "X_test = X_test.reshape(10000, 784)\n",
    "X_train = X_train.astype('float32')\n",
    "X_test = X_test.astype('float32')\n",
    "X_train /= 255\n",
    "X_test /= 255\n",
    "print(X_train.shape[0], 'train samples')\n",
    "print(X_test.shape[0], 'test samples')"
   ]
  },
  {
   "cell_type": "code",
   "execution_count": 33,
   "metadata": {
    "collapsed": true
   },
   "outputs": [],
   "source": [
    "num_classes = 10\n",
    "# convert class vectors to binary class matrices\n",
    "y_train = to_categorical(y_train, num_classes)\n",
    "y_test = to_categorical(y_test, num_classes)"
   ]
  },
  {
   "cell_type": "markdown",
   "metadata": {},
   "source": [
    "#### Vanilla models"
   ]
  },
  {
   "cell_type": "code",
   "execution_count": 34,
   "metadata": {
    "collapsed": true
   },
   "outputs": [],
   "source": [
    "def make_model(optimizer=\"adam\", hidden_size=32):\n",
    "    model = Sequential([\n",
    "        Dense(hidden_size, input_shape=(784,)),\n",
    "        Activation('relu'),\n",
    "        Dense(10),\n",
    "        Activation('softmax'),\n",
    "    ])\n",
    "    model.compile(optimizer=optimizer,loss=\"categorical_crossentropy\",   \n",
    "                  metrics=['accuracy'])\n",
    "    return model"
   ]
  },
  {
   "cell_type": "code",
   "execution_count": 35,
   "metadata": {
    "collapsed": true
   },
   "outputs": [],
   "source": [
    "hidden_sizes = [32,64,128,256]"
   ]
  },
  {
   "cell_type": "code",
   "execution_count": 36,
   "metadata": {
    "scrolled": false
   },
   "outputs": [
    {
     "name": "stdout",
     "output_type": "stream",
     "text": [
      "Train on 50000 samples, validate on 10000 samples\n",
      "Epoch 1/10\n",
      "50000/50000 [==============================] - 1s 26us/step - loss: 0.5612 - acc: 0.8483 - val_loss: 0.2904 - val_acc: 0.9208\n",
      "Epoch 2/10\n",
      "50000/50000 [==============================] - 1s 18us/step - loss: 0.2643 - acc: 0.9241 - val_loss: 0.2307 - val_acc: 0.9387\n",
      "Epoch 3/10\n",
      "50000/50000 [==============================] - 1s 17us/step - loss: 0.2164 - acc: 0.9384 - val_loss: 0.1997 - val_acc: 0.9471\n",
      "Epoch 4/10\n",
      "50000/50000 [==============================] - 1s 17us/step - loss: 0.1850 - acc: 0.9470 - val_loss: 0.1842 - val_acc: 0.9493\n",
      "Epoch 5/10\n",
      "50000/50000 [==============================] - 1s 18us/step - loss: 0.1633 - acc: 0.9530 - val_loss: 0.1686 - val_acc: 0.9527\n",
      "Epoch 6/10\n",
      "50000/50000 [==============================] - 1s 17us/step - loss: 0.1481 - acc: 0.9573 - val_loss: 0.1588 - val_acc: 0.9548\n",
      "Epoch 7/10\n",
      "50000/50000 [==============================] - 1s 18us/step - loss: 0.1359 - acc: 0.9604 - val_loss: 0.1478 - val_acc: 0.9574\n",
      "Epoch 8/10\n",
      "50000/50000 [==============================] - 1s 18us/step - loss: 0.1249 - acc: 0.9631 - val_loss: 0.1439 - val_acc: 0.9593\n",
      "Epoch 9/10\n",
      "50000/50000 [==============================] - 1s 18us/step - loss: 0.1159 - acc: 0.9663 - val_loss: 0.1415 - val_acc: 0.9589\n",
      "Epoch 10/10\n",
      "50000/50000 [==============================] - 1s 18us/step - loss: 0.1092 - acc: 0.9680 - val_loss: 0.1371 - val_acc: 0.9603\n",
      "Train on 50000 samples, validate on 10000 samples\n",
      "Epoch 1/10\n",
      "50000/50000 [==============================] - 2s 31us/step - loss: 0.4327 - acc: 0.8838 - val_loss: 0.2476 - val_acc: 0.9315\n",
      "Epoch 2/10\n",
      "50000/50000 [==============================] - 1s 20us/step - loss: 0.2032 - acc: 0.9425 - val_loss: 0.1896 - val_acc: 0.9452\n",
      "Epoch 3/10\n",
      "50000/50000 [==============================] - 1s 21us/step - loss: 0.1572 - acc: 0.9558 - val_loss: 0.1596 - val_acc: 0.9530\n",
      "Epoch 4/10\n",
      "50000/50000 [==============================] - 1s 21us/step - loss: 0.1287 - acc: 0.9632 - val_loss: 0.1426 - val_acc: 0.9593\n",
      "Epoch 5/10\n",
      "50000/50000 [==============================] - 1s 21us/step - loss: 0.1097 - acc: 0.9687 - val_loss: 0.1236 - val_acc: 0.9617\n",
      "Epoch 6/10\n",
      "50000/50000 [==============================] - 1s 23us/step - loss: 0.0936 - acc: 0.9734 - val_loss: 0.1195 - val_acc: 0.9639\n",
      "Epoch 7/10\n",
      "50000/50000 [==============================] - 1s 20us/step - loss: 0.0825 - acc: 0.9764 - val_loss: 0.1094 - val_acc: 0.9672\n",
      "Epoch 8/10\n",
      "50000/50000 [==============================] - 1s 23us/step - loss: 0.0727 - acc: 0.9798 - val_loss: 0.1057 - val_acc: 0.9684\n",
      "Epoch 9/10\n",
      "50000/50000 [==============================] - 1s 20us/step - loss: 0.0641 - acc: 0.9819 - val_loss: 0.0996 - val_acc: 0.9709\n",
      "Epoch 10/10\n",
      "50000/50000 [==============================] - 1s 23us/step - loss: 0.0578 - acc: 0.9839 - val_loss: 0.0967 - val_acc: 0.9709\n",
      "Train on 50000 samples, validate on 10000 samples\n",
      "Epoch 1/10\n",
      "50000/50000 [==============================] - 2s 42us/step - loss: 0.3898 - acc: 0.8921 - val_loss: 0.2256 - val_acc: 0.9367\n",
      "Epoch 2/10\n",
      "50000/50000 [==============================] - 1s 29us/step - loss: 0.1855 - acc: 0.9476 - val_loss: 0.1675 - val_acc: 0.9524\n",
      "Epoch 3/10\n",
      "50000/50000 [==============================] - 2s 31us/step - loss: 0.1338 - acc: 0.9623 - val_loss: 0.1396 - val_acc: 0.9599\n",
      "Epoch 4/10\n",
      "50000/50000 [==============================] - 2s 32us/step - loss: 0.1028 - acc: 0.9704 - val_loss: 0.1192 - val_acc: 0.9643\n",
      "Epoch 5/10\n",
      "50000/50000 [==============================] - 2s 31us/step - loss: 0.0834 - acc: 0.9759 - val_loss: 0.1154 - val_acc: 0.9660\n",
      "Epoch 6/10\n",
      "50000/50000 [==============================] - 1s 29us/step - loss: 0.0673 - acc: 0.9806 - val_loss: 0.1028 - val_acc: 0.9692\n",
      "Epoch 7/10\n",
      "50000/50000 [==============================] - 1s 29us/step - loss: 0.0566 - acc: 0.9838 - val_loss: 0.1022 - val_acc: 0.9689\n",
      "Epoch 8/10\n",
      "50000/50000 [==============================] - 1s 27us/step - loss: 0.0474 - acc: 0.9863 - val_loss: 0.0941 - val_acc: 0.9723\n",
      "Epoch 9/10\n",
      "50000/50000 [==============================] - 1s 26us/step - loss: 0.0397 - acc: 0.9891 - val_loss: 0.0917 - val_acc: 0.9736\n",
      "Epoch 10/10\n",
      "50000/50000 [==============================] - 1s 28us/step - loss: 0.0327 - acc: 0.9916 - val_loss: 0.0916 - val_acc: 0.9736\n",
      "Train on 50000 samples, validate on 10000 samples\n",
      "Epoch 1/10\n",
      "50000/50000 [==============================] - 2s 44us/step - loss: 0.3318 - acc: 0.9101 - val_loss: 0.1865 - val_acc: 0.9471\n",
      "Epoch 2/10\n",
      "50000/50000 [==============================] - 2s 44us/step - loss: 0.1464 - acc: 0.9581 - val_loss: 0.1354 - val_acc: 0.9597\n",
      "Epoch 3/10\n",
      "50000/50000 [==============================] - 2s 39us/step - loss: 0.1000 - acc: 0.9704 - val_loss: 0.1135 - val_acc: 0.9663\n",
      "Epoch 4/10\n",
      "50000/50000 [==============================] - 2s 33us/step - loss: 0.0739 - acc: 0.9789 - val_loss: 0.1100 - val_acc: 0.9678\n",
      "Epoch 5/10\n",
      "50000/50000 [==============================] - 2s 33us/step - loss: 0.0569 - acc: 0.9837 - val_loss: 0.0877 - val_acc: 0.9730\n",
      "Epoch 6/10\n",
      "50000/50000 [==============================] - 2s 32us/step - loss: 0.0447 - acc: 0.9874 - val_loss: 0.0904 - val_acc: 0.9734\n",
      "Epoch 7/10\n",
      "50000/50000 [==============================] - 2s 31us/step - loss: 0.0357 - acc: 0.9904 - val_loss: 0.0883 - val_acc: 0.9738\n",
      "Epoch 8/10\n",
      "50000/50000 [==============================] - 2s 33us/step - loss: 0.0280 - acc: 0.9931 - val_loss: 0.0816 - val_acc: 0.9730\n",
      "Epoch 9/10\n",
      "50000/50000 [==============================] - 2s 35us/step - loss: 0.0223 - acc: 0.9946 - val_loss: 0.0825 - val_acc: 0.9755\n",
      "Epoch 10/10\n",
      "50000/50000 [==============================] - 2s 32us/step - loss: 0.0180 - acc: 0.9957 - val_loss: 0.0831 - val_acc: 0.9762\n"
     ]
    }
   ],
   "source": [
    "models = []\n",
    "scores = []\n",
    "histories = []\n",
    "for size in hidden_sizes:\n",
    "    model = make_model(hidden_size = size)\n",
    "    X_train1, X_val, y_train1, y_val = train_test_split(X_train, y_train, test_size = 10000)\n",
    "    history = model.fit(X_train1, y_train1, batch_size=128, epochs=10, verbose=1, validation_data=(X_val, y_val))\n",
    "    best_score = history.history[\"val_acc\"][-1]\n",
    "    models.append(model)\n",
    "    scores.append(best_score)\n",
    "    histories.append(history)"
   ]
  },
  {
   "cell_type": "code",
   "execution_count": 37,
   "metadata": {},
   "outputs": [
    {
     "name": "stdout",
     "output_type": "stream",
     "text": [
      "Validation Accuracy of the Best Model: 0.976\n"
     ]
    }
   ],
   "source": [
    "print(\"Validation Accuracy of the Best Model: {:.3f}\".format(max(scores)))"
   ]
  },
  {
   "cell_type": "code",
   "execution_count": 38,
   "metadata": {},
   "outputs": [
    {
     "data": {
      "text/plain": [
       "Text(0,0.5,'loss')"
      ]
     },
     "execution_count": 38,
     "metadata": {},
     "output_type": "execute_result"
    },
    {
     "data": {
      "image/png": "[encoded data removed]",
      "text/plain": [
       "<matplotlib.figure.Figure at 0x1036624a8>"
      ]
     },
     "metadata": {},
     "output_type": "display_data"
    }
   ],
   "source": [
    "df = pd.DataFrame(histories[np.argmax(scores)].history)\n",
    "df[['acc', 'val_acc']].plot()\n",
    "plt.ylabel(\"accuracy\")\n",
    "df[['loss', 'val_loss']].plot(linestyle='--', ax=plt.twinx())\n",
    "plt.ylabel(\"loss\")"
   ]
  },
  {
   "cell_type": "markdown",
   "metadata": {},
   "source": [
    "#### Dropout models"
   ]
  },
  {
   "cell_type": "code",
   "execution_count": 39,
   "metadata": {
    "collapsed": true
   },
   "outputs": [],
   "source": [
    "def make_model_dropout(optimizer=\"adam\", hidden_size=32):\n",
    "    model_dropout = Sequential([\n",
    "        Dense(1024, input_shape=(784,), activation='relu'),\n",
    "        Dropout(.5),\n",
    "        Dense(1024, activation='relu'),\n",
    "        Dropout(.5),\n",
    "        Dense(10, activation='softmax'),\n",
    "    ])\n",
    "    model_dropout.compile(optimizer=optimizer,loss=\"categorical_crossentropy\",   \n",
    "                  metrics=['accuracy'])\n",
    "    return model"
   ]
  },
  {
   "cell_type": "code",
   "execution_count": 40,
   "metadata": {},
   "outputs": [
    {
     "name": "stdout",
     "output_type": "stream",
     "text": [
      "Train on 50000 samples, validate on 10000 samples\n",
      "Epoch 1/10\n",
      "50000/50000 [==============================] - 2s 40us/step - loss: 0.0316 - acc: 0.9908 - val_loss: 0.0376 - val_acc: 0.9877\n",
      "Epoch 2/10\n",
      "50000/50000 [==============================] - 2s 34us/step - loss: 0.0203 - acc: 0.9944 - val_loss: 0.0290 - val_acc: 0.9912\n",
      "Epoch 3/10\n",
      "50000/50000 [==============================] - 2s 37us/step - loss: 0.0130 - acc: 0.9969 - val_loss: 0.0283 - val_acc: 0.9920\n",
      "Epoch 4/10\n",
      "50000/50000 [==============================] - 2s 39us/step - loss: 0.0097 - acc: 0.9981 - val_loss: 0.0282 - val_acc: 0.9917\n",
      "Epoch 5/10\n",
      "50000/50000 [==============================] - 2s 39us/step - loss: 0.0079 - acc: 0.9985 - val_loss: 0.0294 - val_acc: 0.9912\n",
      "Epoch 6/10\n",
      "50000/50000 [==============================] - 2s 40us/step - loss: 0.0068 - acc: 0.9989 - val_loss: 0.0343 - val_acc: 0.9894\n",
      "Epoch 7/10\n",
      "50000/50000 [==============================] - 2s 38us/step - loss: 0.0056 - acc: 0.9990 - val_loss: 0.0287 - val_acc: 0.9912\n",
      "Epoch 8/10\n",
      "50000/50000 [==============================] - 2s 37us/step - loss: 0.0038 - acc: 0.9996 - val_loss: 0.0291 - val_acc: 0.9918\n",
      "Epoch 9/10\n",
      "50000/50000 [==============================] - 2s 33us/step - loss: 0.0028 - acc: 0.9998 - val_loss: 0.0310 - val_acc: 0.9910\n",
      "Epoch 10/10\n",
      "50000/50000 [==============================] - 2s 37us/step - loss: 0.0024 - acc: 0.9998 - val_loss: 0.0342 - val_acc: 0.9900\n",
      "Train on 50000 samples, validate on 10000 samples\n",
      "Epoch 1/10\n",
      "50000/50000 [==============================] - 2s 41us/step - loss: 0.0214 - acc: 0.9933 - val_loss: 0.0178 - val_acc: 0.9948\n",
      "Epoch 2/10\n",
      "50000/50000 [==============================] - 2s 31us/step - loss: 0.0082 - acc: 0.9976 - val_loss: 0.0153 - val_acc: 0.9944\n",
      "Epoch 3/10\n",
      "50000/50000 [==============================] - 2s 33us/step - loss: 0.0036 - acc: 0.9993 - val_loss: 0.0117 - val_acc: 0.9960\n",
      "Epoch 4/10\n",
      "50000/50000 [==============================] - 2s 31us/step - loss: 0.0020 - acc: 0.9998 - val_loss: 0.0100 - val_acc: 0.9964\n",
      "Epoch 5/10\n",
      "50000/50000 [==============================] - 2s 31us/step - loss: 9.7935e-04 - acc: 1.0000 - val_loss: 0.0088 - val_acc: 0.9973\n",
      "Epoch 6/10\n",
      "50000/50000 [==============================] - 2s 31us/step - loss: 6.9636e-04 - acc: 1.0000 - val_loss: 0.0085 - val_acc: 0.9971\n",
      "Epoch 7/10\n",
      "50000/50000 [==============================] - 2s 31us/step - loss: 5.8817e-04 - acc: 1.0000 - val_loss: 0.0084 - val_acc: 0.9973\n",
      "Epoch 8/10\n",
      "50000/50000 [==============================] - 2s 31us/step - loss: 6.2163e-04 - acc: 1.0000 - val_loss: 0.0082 - val_acc: 0.9971\n",
      "Epoch 9/10\n",
      "50000/50000 [==============================] - 2s 31us/step - loss: 0.0030 - acc: 0.9991 - val_loss: 0.0532 - val_acc: 0.9836\n",
      "Epoch 10/10\n",
      "50000/50000 [==============================] - 2s 31us/step - loss: 0.0154 - acc: 0.9948 - val_loss: 0.0221 - val_acc: 0.9915\n",
      "Train on 50000 samples, validate on 10000 samples\n",
      "Epoch 1/10\n",
      "50000/50000 [==============================] - 2s 43us/step - loss: 0.0089 - acc: 0.9973 - val_loss: 0.0110 - val_acc: 0.9967\n",
      "Epoch 2/10\n",
      "50000/50000 [==============================] - 2s 31us/step - loss: 0.0035 - acc: 0.9992 - val_loss: 0.0048 - val_acc: 0.9987\n",
      "Epoch 3/10\n",
      "50000/50000 [==============================] - 2s 31us/step - loss: 0.0016 - acc: 0.9997 - val_loss: 0.0060 - val_acc: 0.9985\n",
      "Epoch 4/10\n",
      "50000/50000 [==============================] - 2s 31us/step - loss: 7.1845e-04 - acc: 1.0000 - val_loss: 0.0032 - val_acc: 0.9991\n",
      "Epoch 5/10\n",
      "50000/50000 [==============================] - 2s 31us/step - loss: 3.6458e-04 - acc: 1.0000 - val_loss: 0.0037 - val_acc: 0.9987\n",
      "Epoch 6/10\n",
      "50000/50000 [==============================] - 2s 31us/step - loss: 2.8624e-04 - acc: 1.0000 - val_loss: 0.0034 - val_acc: 0.9991\n",
      "Epoch 7/10\n",
      "50000/50000 [==============================] - 2s 31us/step - loss: 2.4544e-04 - acc: 1.0000 - val_loss: 0.0032 - val_acc: 0.9993\n",
      "Epoch 8/10\n",
      "50000/50000 [==============================] - 2s 35us/step - loss: 2.2722e-04 - acc: 1.0000 - val_loss: 0.0036 - val_acc: 0.9989\n",
      "Epoch 9/10\n",
      "50000/50000 [==============================] - 2s 31us/step - loss: 1.9233e-04 - acc: 1.0000 - val_loss: 0.0035 - val_acc: 0.9989\n",
      "Epoch 10/10\n",
      "50000/50000 [==============================] - 2s 31us/step - loss: 1.7257e-04 - acc: 1.0000 - val_loss: 0.0037 - val_acc: 0.9988\n",
      "Train on 50000 samples, validate on 10000 samples\n",
      "Epoch 1/10\n",
      "50000/50000 [==============================] - 2s 41us/step - loss: 0.0192 - acc: 0.9941 - val_loss: 0.0156 - val_acc: 0.9948\n",
      "Epoch 2/10\n",
      "50000/50000 [==============================] - 2s 38us/step - loss: 0.0054 - acc: 0.9983 - val_loss: 0.0060 - val_acc: 0.9980\n",
      "Epoch 3/10\n",
      "50000/50000 [==============================] - 2s 32us/step - loss: 0.0011 - acc: 0.9998 - val_loss: 0.0035 - val_acc: 0.9986\n",
      "Epoch 4/10\n",
      "50000/50000 [==============================] - 2s 31us/step - loss: 5.1621e-04 - acc: 1.0000 - val_loss: 0.0030 - val_acc: 0.9991\n",
      "Epoch 5/10\n",
      "50000/50000 [==============================] - 2s 31us/step - loss: 2.2962e-04 - acc: 1.0000 - val_loss: 0.0027 - val_acc: 0.9988\n",
      "Epoch 6/10\n",
      "50000/50000 [==============================] - 2s 32us/step - loss: 1.8244e-04 - acc: 1.0000 - val_loss: 0.0027 - val_acc: 0.9988\n",
      "Epoch 7/10\n",
      "50000/50000 [==============================] - 2s 31us/step - loss: 1.5362e-04 - acc: 1.0000 - val_loss: 0.0025 - val_acc: 0.9990\n",
      "Epoch 8/10\n",
      "50000/50000 [==============================] - 2s 36us/step - loss: 1.3502e-04 - acc: 1.0000 - val_loss: 0.0026 - val_acc: 0.9989\n",
      "Epoch 9/10\n",
      "50000/50000 [==============================] - 2s 33us/step - loss: 1.1941e-04 - acc: 1.0000 - val_loss: 0.0025 - val_acc: 0.9988\n",
      "Epoch 10/10\n",
      "50000/50000 [==============================] - 2s 31us/step - loss: 1.0457e-04 - acc: 1.0000 - val_loss: 0.0027 - val_acc: 0.9989\n"
     ]
    }
   ],
   "source": [
    "models_dropout = []\n",
    "scores_dropout = []\n",
    "histories_dropout = []\n",
    "for size in hidden_sizes:\n",
    "    model = make_model_dropout(hidden_size = size)\n",
    "    X_train1, X_val, y_train1, y_val = train_test_split(X_train, y_train, test_size = 10000)\n",
    "    history = model.fit(X_train1, y_train1, batch_size=128, epochs=10, verbose=1, validation_data=(X_val, y_val))\n",
    "    best_score = history.history[\"val_acc\"][-1]\n",
    "    models_dropout.append(model)\n",
    "    scores_dropout.append(best_score)\n",
    "    histories_dropout.append(history)"
   ]
  },
  {
   "cell_type": "code",
   "execution_count": 41,
   "metadata": {},
   "outputs": [
    {
     "name": "stdout",
     "output_type": "stream",
     "text": [
      "Validation Accuracy of the Best Model: 0.999\n"
     ]
    }
   ],
   "source": [
    "print(\"Validation Accuracy of the Best Model: {:.3f}\".format(max(scores_dropout)))"
   ]
  },
  {
   "cell_type": "code",
   "execution_count": 42,
   "metadata": {},
   "outputs": [
    {
     "data": {
      "text/plain": [
       "Text(0,0.5,'loss')"
      ]
     },
     "execution_count": 42,
     "metadata": {},
     "output_type": "execute_result"
    },
    {
     "data": {
      "image/png": "[encoded data removed]",
      "text/plain": [
       "<matplotlib.figure.Figure at 0x13dc572b0>"
      ]
     },
     "metadata": {},
     "output_type": "display_data"
    }
   ],
   "source": [
    "df = pd.DataFrame(histories_dropout[np.argmax(scores_dropout)].history)\n",
    "df[['acc', 'val_acc']].plot()\n",
    "plt.ylabel(\"accuracy\")\n",
    "df[['loss', 'val_loss']].plot(linestyle='--', ax=plt.twinx())\n",
    "plt.ylabel(\"loss\")"
   ]
  },
  {
   "cell_type": "code",
   "execution_count": 43,
   "metadata": {
    "collapsed": true
   },
   "outputs": [],
   "source": [
    "total_scores = [scores, scores_dropout]\n",
    "total_models = [models, models_dropout]"
   ]
  },
  {
   "cell_type": "code",
   "execution_count": 44,
   "metadata": {
    "collapsed": true
   },
   "outputs": [],
   "source": [
    "best_version = np.argmax([max(scores), max(scores_dropout)])\n",
    "best_model = total_models[best_version][np.argmax(total_scores[best_version])]"
   ]
  },
  {
   "cell_type": "code",
   "execution_count": 45,
   "metadata": {},
   "outputs": [
    {
     "name": "stdout",
     "output_type": "stream",
     "text": [
      "10000/10000 [==============================] - 0s 41us/step\n",
      "Test loss: 0.093\n",
      "Test Accuracy: 0.981\n"
     ]
    }
   ],
   "source": [
    "test_score = best_model.evaluate(X_test,y_test)\n",
    "print(\"Test loss: {:.3f}\".format(test_score[0]))\n",
    "print(\"Test Accuracy: {:.3f}\".format(test_score[1]))"
   ]
  },
  {
   "cell_type": "markdown",
   "metadata": {},
   "source": [
    "# Convolutional Neural Networks - SVHN dataset"
   ]
  },
  {
   "cell_type": "markdown",
   "metadata": {},
   "source": [
    "CNNs trained on SVHN - single digit classification"
   ]
  },
  {
   "cell_type": "code",
   "execution_count": 5,
   "metadata": {
    "collapsed": true
   },
   "outputs": [],
   "source": [
    "train_data = sio.loadmat('train_32x32.mat')\n",
    "test_data = sio.loadmat('test_32x32.mat')"
   ]
  },
  {
   "cell_type": "code",
   "execution_count": 6,
   "metadata": {
    "collapsed": true
   },
   "outputs": [],
   "source": [
    "X_train, y_train = train_data[\"X\"], train_data[\"y\"]\n",
    "X_test, y_test = test_data[\"X\"], test_data[\"y\"]"
   ]
  },
  {
   "cell_type": "code",
   "execution_count": 7,
   "metadata": {
    "collapsed": true
   },
   "outputs": [],
   "source": [
    "y_train = y_train.ravel()\n",
    "y_train[np.where(y_train==10)] = 0"
   ]
  },
  {
   "cell_type": "code",
   "execution_count": 8,
   "metadata": {
    "collapsed": true
   },
   "outputs": [],
   "source": [
    "y_test = y_test.ravel()\n",
    "y_test[np.where(y_test==10)] = 0"
   ]
  },
  {
   "cell_type": "code",
   "execution_count": 9,
   "metadata": {
    "collapsed": true
   },
   "outputs": [],
   "source": [
    "num_classes = 10\n",
    "# input image dimensions\n",
    "img_rows, img_cols = 32, 32\n",
    "\n",
    "X_train_images = np.array([X_train[:,:,:,i] for i in range(X_train.shape[3])])\n",
    "X_test_images = np.array([X_test[:,:,:,i] for i in range(X_test.shape[3])])\n",
    "input_shape = (img_rows, img_cols, 3)\n",
    "y_train = to_categorical(y_train.ravel(), num_classes)\n",
    "y_test = to_categorical(y_test.ravel(), num_classes)"
   ]
  },
  {
   "cell_type": "code",
   "execution_count": 10,
   "metadata": {},
   "outputs": [
    {
     "name": "stdout",
     "output_type": "stream",
     "text": [
      "[0. 0. 0. 0. 0. 0. 0. 0. 0. 1.]\n"
     ]
    },
    {
     "data": {
      "text/plain": [
       "<matplotlib.image.AxesImage at 0x129e2efd0>"
      ]
     },
     "execution_count": 10,
     "metadata": {},
     "output_type": "execute_result"
    },
    {
     "data": {
      "image/png": "[encoded data removed]",
      "text/plain": [
       "<matplotlib.figure.Figure at 0x11771ecc0>"
      ]
     },
     "metadata": {},
     "output_type": "display_data"
    }
   ],
   "source": [
    "print(y_train[1])\n",
    "plt.imshow(X_train_images[1])"
   ]
  },
  {
   "cell_type": "code",
   "execution_count": 22,
   "metadata": {
    "collapsed": true
   },
   "outputs": [],
   "source": [
    "def cnn_create():\n",
    "    cnn = Sequential()\n",
    "    cnn.add(Conv2D(32, (3, 3), padding='same', activation='relu', input_shape=input_shape))\n",
    "    cnn.add(Conv2D(32, (3, 3), activation='relu'))\n",
    "    cnn.add(MaxPooling2D(pool_size=(2, 2)))\n",
    "    cnn.add(Dropout(0.25))\n",
    " \n",
    "    cnn.add(Conv2D(64, (3, 3), padding='same', activation='relu'))\n",
    "    cnn.add(Conv2D(64, (3, 3), activation='relu'))\n",
    "    cnn.add(MaxPooling2D(pool_size=(2, 2)))\n",
    "    cnn.add(Dropout(0.25))\n",
    " \n",
    "    cnn.add(Conv2D(64, (3, 3), padding='same', activation='relu'))\n",
    "    cnn.add(Conv2D(64, (3, 3), activation='relu'))\n",
    "    cnn.add(MaxPooling2D(pool_size=(2, 2)))\n",
    "    cnn.add(Dropout(0.25))\n",
    " \n",
    "    cnn.add(Flatten())\n",
    "    cnn.add(Dense(512, activation='relu'))\n",
    "    cnn.add(Dropout(0.5))\n",
    "    cnn.add(Dense(10, activation='softmax'))\n",
    "    \n",
    "    cnn.compile(optimizer='rmsprop', loss='categorical_crossentropy', metrics=['accuracy'])\n",
    "     \n",
    "    return cnn"
   ]
  },
  {
   "cell_type": "markdown",
   "metadata": {},
   "source": [
    "Fit model"
   ]
  },
  {
   "cell_type": "code",
   "execution_count": 24,
   "metadata": {},
   "outputs": [
    {
     "name": "stdout",
     "output_type": "stream",
     "text": [
      "Train on 65931 samples, validate on 7326 samples\n",
      "Epoch 1/25\n",
      "65931/65931 [==============================] - 206s 3ms/step - loss: 2.0401 - acc: 0.3667 - val_loss: 0.8005 - val_acc: 0.7573\n",
      "Epoch 2/25\n",
      "65931/65931 [==============================] - 204s 3ms/step - loss: 0.8150 - acc: 0.7516 - val_loss: 0.5752 - val_acc: 0.8440\n",
      "Epoch 3/25\n",
      "65931/65931 [==============================] - 210s 3ms/step - loss: 0.5882 - acc: 0.8250 - val_loss: 0.3800 - val_acc: 0.8924\n",
      "Epoch 4/25\n",
      "65931/65931 [==============================] - 208s 3ms/step - loss: 0.5032 - acc: 0.8509 - val_loss: 0.3389 - val_acc: 0.8965\n",
      "Epoch 5/25\n",
      "65931/65931 [==============================] - 208s 3ms/step - loss: 0.4488 - acc: 0.8684 - val_loss: 0.3256 - val_acc: 0.9034\n",
      "Epoch 6/25\n",
      "65931/65931 [==============================] - 207s 3ms/step - loss: 0.4147 - acc: 0.8785 - val_loss: 0.2892 - val_acc: 0.9165\n",
      "Epoch 7/25\n",
      "65931/65931 [==============================] - 208s 3ms/step - loss: 0.3883 - acc: 0.8871 - val_loss: 0.3534 - val_acc: 0.8941\n",
      "Epoch 8/25\n",
      "65931/65931 [==============================] - 207s 3ms/step - loss: 0.3708 - acc: 0.8913 - val_loss: 0.2917 - val_acc: 0.9156\n",
      "Epoch 9/25\n",
      "65931/65931 [==============================] - 219s 3ms/step - loss: 0.3615 - acc: 0.8948 - val_loss: 0.2806 - val_acc: 0.9211\n",
      "Epoch 10/25\n",
      "65931/65931 [==============================] - 205s 3ms/step - loss: 0.3510 - acc: 0.8983 - val_loss: 0.2821 - val_acc: 0.9188\n",
      "Epoch 11/25\n",
      "65931/65931 [==============================] - 208s 3ms/step - loss: 0.3372 - acc: 0.9021 - val_loss: 0.2803 - val_acc: 0.9196\n",
      "Epoch 12/25\n",
      "65931/65931 [==============================] - 203s 3ms/step - loss: 0.3383 - acc: 0.9027 - val_loss: 0.2779 - val_acc: 0.9211\n",
      "Epoch 13/25\n",
      "65931/65931 [==============================] - 204s 3ms/step - loss: 0.3272 - acc: 0.9049 - val_loss: 0.3099 - val_acc: 0.9130\n",
      "Epoch 14/25\n",
      "65931/65931 [==============================] - 205s 3ms/step - loss: 0.3296 - acc: 0.9060 - val_loss: 0.3213 - val_acc: 0.9106\n",
      "Epoch 15/25\n",
      "65931/65931 [==============================] - 205s 3ms/step - loss: 0.3260 - acc: 0.9064 - val_loss: 0.2803 - val_acc: 0.9199\n",
      "Epoch 16/25\n",
      "65931/65931 [==============================] - 205s 3ms/step - loss: 0.3208 - acc: 0.9079 - val_loss: 0.3217 - val_acc: 0.9092\n",
      "Epoch 17/25\n",
      "65931/65931 [==============================] - 203s 3ms/step - loss: 0.3214 - acc: 0.9088 - val_loss: 0.2438 - val_acc: 0.9343\n",
      "Epoch 18/25\n",
      "65931/65931 [==============================] - 198s 3ms/step - loss: 0.3185 - acc: 0.9095 - val_loss: 0.2896 - val_acc: 0.9193\n",
      "Epoch 19/25\n",
      "65931/65931 [==============================] - 199s 3ms/step - loss: 0.3196 - acc: 0.9091 - val_loss: 0.2711 - val_acc: 0.9244\n",
      "Epoch 20/25\n",
      "65931/65931 [==============================] - 200s 3ms/step - loss: 0.3127 - acc: 0.9093 - val_loss: 0.2975 - val_acc: 0.9139\n",
      "Epoch 21/25\n",
      "65931/65931 [==============================] - 201s 3ms/step - loss: 0.3175 - acc: 0.9111 - val_loss: 0.2599 - val_acc: 0.9248\n",
      "Epoch 22/25\n",
      "65931/65931 [==============================] - 202s 3ms/step - loss: 0.3200 - acc: 0.9112 - val_loss: 0.3624 - val_acc: 0.8957\n",
      "Epoch 23/25\n",
      "65931/65931 [==============================] - 203s 3ms/step - loss: 0.3133 - acc: 0.9110 - val_loss: 0.2521 - val_acc: 0.9294\n",
      "Epoch 24/25\n",
      "65931/65931 [==============================] - 243s 4ms/step - loss: 0.3169 - acc: 0.9111 - val_loss: 0.3310 - val_acc: 0.9024\n",
      "Epoch 25/25\n",
      "65931/65931 [==============================] - 430s 7ms/step - loss: 0.3174 - acc: 0.9107 - val_loss: 0.2641 - val_acc: 0.9287\n"
     ]
    }
   ],
   "source": [
    "model = cnn_create()\n",
    "batch_size = 256\n",
    "epochs = 25\n",
    "\n",
    "history = model.fit(X_train_images, y_train, batch_size=batch_size, epochs=epochs, verbose=1, validation_split=0.1)"
   ]
  },
  {
   "cell_type": "code",
   "execution_count": 25,
   "metadata": {},
   "outputs": [
    {
     "name": "stdout",
     "output_type": "stream",
     "text": [
      "validation score: 0.92874692820995\n"
     ]
    }
   ],
   "source": [
    "best_score = history.history[\"val_acc\"][-1]\n",
    "print(\"validation score: {}\".format( best_score))"
   ]
  },
  {
   "cell_type": "markdown",
   "metadata": {},
   "source": [
    "### Using Batch Normalization"
   ]
  },
  {
   "cell_type": "code",
   "execution_count": 27,
   "metadata": {
    "collapsed": true
   },
   "outputs": [],
   "source": [
    "def cnn_batch_create():\n",
    "    cnn = Sequential()\n",
    "    cnn.add(Conv2D(32, (3, 3), padding='same', activation='relu', input_shape=input_shape))\n",
    "    cnn.add(BatchNormalization())\n",
    "    cnn.add(Conv2D(32, (3, 3), activation='relu'))\n",
    "    cnn.add(BatchNormalization())\n",
    "    cnn.add(MaxPooling2D(pool_size=(2, 2)))\n",
    "    cnn.add(Dropout(0.25))\n",
    " \n",
    "    cnn.add(Conv2D(64, (3, 3), padding='same', activation='relu'))\n",
    "    cnn.add(BatchNormalization())\n",
    "    cnn.add(Conv2D(64, (3, 3), activation='relu'))\n",
    "    cnn.add(BatchNormalization())\n",
    "    cnn.add(MaxPooling2D(pool_size=(2, 2)))\n",
    "    cnn.add(Dropout(0.25))\n",
    " \n",
    "    cnn.add(Conv2D(64, (3, 3), padding='same', activation='relu'))\n",
    "    cnn.add(BatchNormalization())\n",
    "    cnn.add(Conv2D(64, (3, 3), activation='relu'))\n",
    "    cnn.add(BatchNormalization())\n",
    "    cnn.add(MaxPooling2D(pool_size=(2, 2)))\n",
    "    cnn.add(Dropout(0.25))\n",
    " \n",
    "    cnn.add(Flatten())\n",
    "    cnn.add(Dense(512, activation='relu'))\n",
    "    cnn.add(Dropout(0.5))\n",
    "    cnn.add(Dense(10, activation='softmax'))\n",
    "    \n",
    "    cnn.compile(optimizer='rmsprop', loss='categorical_crossentropy', metrics=['accuracy'])\n",
    "     \n",
    "    return cnn"
   ]
  },
  {
   "cell_type": "code",
   "execution_count": 28,
   "metadata": {},
   "outputs": [
    {
     "name": "stdout",
     "output_type": "stream",
     "text": [
      "Train on 65931 samples, validate on 7326 samples\n",
      "Epoch 1/25\n",
      "65931/65931 [==============================] - 439s 7ms/step - loss: 1.0772 - acc: 0.6559 - val_loss: 0.4983 - val_acc: 0.8444\n",
      "Epoch 2/25\n",
      "65931/65931 [==============================] - 428s 6ms/step - loss: 0.4468 - acc: 0.8653 - val_loss: 0.3585 - val_acc: 0.8913\n",
      "Epoch 3/25\n",
      "65931/65931 [==============================] - 430s 7ms/step - loss: 0.3658 - acc: 0.8918 - val_loss: 0.3289 - val_acc: 0.9016\n",
      "Epoch 4/25\n",
      "65931/65931 [==============================] - 437s 7ms/step - loss: 0.3286 - acc: 0.9018 - val_loss: 0.2874 - val_acc: 0.9170\n",
      "Epoch 5/25\n",
      "65931/65931 [==============================] - 437s 7ms/step - loss: 0.2963 - acc: 0.9130 - val_loss: 0.4188 - val_acc: 0.8739\n",
      "Epoch 6/25\n",
      "65931/65931 [==============================] - 439s 7ms/step - loss: 0.2764 - acc: 0.9198 - val_loss: 0.3710 - val_acc: 0.8875\n",
      "Epoch 7/25\n",
      "65931/65931 [==============================] - 459s 7ms/step - loss: 0.2585 - acc: 0.9243 - val_loss: 0.2416 - val_acc: 0.9307\n",
      "Epoch 8/25\n",
      "65931/65931 [==============================] - 465s 7ms/step - loss: 0.2467 - acc: 0.9285 - val_loss: 0.2663 - val_acc: 0.9247\n",
      "Epoch 9/25\n",
      "65931/65931 [==============================] - 459s 7ms/step - loss: 0.2347 - acc: 0.9318 - val_loss: 0.2347 - val_acc: 0.9373\n",
      "Epoch 10/25\n",
      "65931/65931 [==============================] - 480s 7ms/step - loss: 0.2281 - acc: 0.9346 - val_loss: 0.2368 - val_acc: 0.9356\n",
      "Epoch 11/25\n",
      "65931/65931 [==============================] - 491s 7ms/step - loss: 0.2155 - acc: 0.9383 - val_loss: 0.2244 - val_acc: 0.9401\n",
      "Epoch 12/25\n",
      "65931/65931 [==============================] - 480s 7ms/step - loss: 0.2103 - acc: 0.9404 - val_loss: 0.2473 - val_acc: 0.9316\n",
      "Epoch 13/25\n",
      "65931/65931 [==============================] - 472s 7ms/step - loss: 0.2020 - acc: 0.9433 - val_loss: 0.2285 - val_acc: 0.9412\n",
      "Epoch 14/25\n",
      "65931/65931 [==============================] - 476s 7ms/step - loss: 0.1945 - acc: 0.9447 - val_loss: 0.2690 - val_acc: 0.9241\n",
      "Epoch 15/25\n",
      "65931/65931 [==============================] - 475s 7ms/step - loss: 0.1884 - acc: 0.9459 - val_loss: 0.2433 - val_acc: 0.9358\n",
      "Epoch 16/25\n",
      "65931/65931 [==============================] - 468s 7ms/step - loss: 0.1837 - acc: 0.9483 - val_loss: 0.2658 - val_acc: 0.9301\n",
      "Epoch 17/25\n",
      "65931/65931 [==============================] - 462s 7ms/step - loss: 0.1784 - acc: 0.9483 - val_loss: 0.2333 - val_acc: 0.9394\n",
      "Epoch 18/25\n",
      "65931/65931 [==============================] - 463s 7ms/step - loss: 0.1742 - acc: 0.9493 - val_loss: 0.2143 - val_acc: 0.9428\n",
      "Epoch 19/25\n",
      "65931/65931 [==============================] - 497s 8ms/step - loss: 0.1727 - acc: 0.9513 - val_loss: 0.2232 - val_acc: 0.9417\n",
      "Epoch 20/25\n",
      "65931/65931 [==============================] - 492s 7ms/step - loss: 0.1672 - acc: 0.9515 - val_loss: 0.2228 - val_acc: 0.9459\n",
      "Epoch 21/25\n",
      "65931/65931 [==============================] - 514s 8ms/step - loss: 0.1629 - acc: 0.9532 - val_loss: 0.2257 - val_acc: 0.9442\n",
      "Epoch 22/25\n",
      "65931/65931 [==============================] - 481s 7ms/step - loss: 0.1586 - acc: 0.9536 - val_loss: 0.2971 - val_acc: 0.9195\n",
      "Epoch 23/25\n",
      "65931/65931 [==============================] - 462s 7ms/step - loss: 0.1553 - acc: 0.9554 - val_loss: 0.2230 - val_acc: 0.9438\n",
      "Epoch 24/25\n",
      "65931/65931 [==============================] - 451s 7ms/step - loss: 0.1503 - acc: 0.9564 - val_loss: 0.2289 - val_acc: 0.9414\n",
      "Epoch 25/25\n",
      "65931/65931 [==============================] - 471s 7ms/step - loss: 0.1479 - acc: 0.9570 - val_loss: 0.2252 - val_acc: 0.9440\n"
     ]
    }
   ],
   "source": [
    "model_batch = cnn_batch_create()\n",
    "batch_size = 256\n",
    "epochs = 25\n",
    "\n",
    "history = model_batch.fit(X_train_images, y_train, batch_size=batch_size, epochs=epochs, verbose=1, validation_split=0.1)"
   ]
  },
  {
   "cell_type": "code",
   "execution_count": 29,
   "metadata": {},
   "outputs": [
    {
     "name": "stdout",
     "output_type": "stream",
     "text": [
      "validation score: 0.9440349445231065\n"
     ]
    }
   ],
   "source": [
    "best_score = history.history[\"val_acc\"][-1]\n",
    "print(\"validation score: {}\".format( best_score))"
   ]
  },
  {
   "cell_type": "markdown",
   "metadata": {},
   "source": [
    "The batch normalization increased the validation score. Let us test the model with the batch normalization"
   ]
  },
  {
   "cell_type": "code",
   "execution_count": 31,
   "metadata": {},
   "outputs": [
    {
     "name": "stdout",
     "output_type": "stream",
     "text": [
      "26032/26032 [==============================] - 61s 2ms/step\n",
      "test loss: 0.2175682827311705\n",
      "test accuracy: 0.9455669944683467\n"
     ]
    }
   ],
   "source": [
    "score = model_batch.evaluate(X_test_images, y_test)\n",
    "print(\"test loss: {}\".format( score[0]))\n",
    "print(\"test accuracy: {}\".format( score[1]))"
   ]
  },
  {
   "cell_type": "markdown",
   "metadata": {},
   "source": [
    "With this model, we achieve a test-set accuracy of **0.946**"
   ]
  },
  {
   "cell_type": "markdown",
   "metadata": {},
   "source": [
    "# Using weights of a pre-trained CNN"
   ]
  },
  {
   "cell_type": "markdown",
   "metadata": {},
   "source": [
    "#### Extract features "
   ]
  },
  {
   "cell_type": "markdown",
   "metadata": {},
   "source": [
    "We extracted the weights from the VGG16 neural network to build our features."
   ]
  },
  {
   "cell_type": "code",
   "execution_count": 45,
   "metadata": {
    "collapsed": true
   },
   "outputs": [],
   "source": [
    "pretrained_model = VGG16(include_top=True, weights='imagenet')"
   ]
  },
  {
   "cell_type": "code",
   "execution_count": 46,
   "metadata": {
    "collapsed": true
   },
   "outputs": [],
   "source": [
    "pet_name = []\n",
    "for (dirpath, dirnames, filenames) in walk(\"images\"):\n",
    "    pet_name.extend(filenames)\n",
    "    break\n",
    "pet_name=[i.split(\".\")[0] for i in pet_name]"
   ]
  },
  {
   "cell_type": "code",
   "execution_count": 47,
   "metadata": {
    "collapsed": true
   },
   "outputs": [],
   "source": [
    "d={}"
   ]
  },
  {
   "cell_type": "code",
   "execution_count": null,
   "metadata": {
    "collapsed": true
   },
   "outputs": [],
   "source": [
    "for name in pet_name:\n",
    "    img = image.load_img(\"images/\"+name+\".jpg\", target_size=(224, 224))\n",
    "    x = image.img_to_array(img)\n",
    "    x = np.expand_dims(x, axis=0)\n",
    "    x = preprocess_input(x)\n",
    "    features = pretrained_model.predict(x)\n",
    "    d[name]=features[0]"
   ]
  },
  {
   "cell_type": "code",
   "execution_count": null,
   "metadata": {
    "collapsed": true
   },
   "outputs": [],
   "source": [
    "df_pet=pd.DataFrame.from_dict(d, orient='index')"
   ]
  },
  {
   "cell_type": "code",
   "execution_count": null,
   "metadata": {
    "collapsed": true
   },
   "outputs": [],
   "source": [
    "pd.DataFrame.to_csv(df_pet,\"pet_features\")"
   ]
  },
  {
   "cell_type": "markdown",
   "metadata": {},
   "source": [
    "#### Linear model"
   ]
  },
  {
   "cell_type": "markdown",
   "metadata": {},
   "source": [
    "We chose to run a Linear SVC on our features."
   ]
  },
  {
   "cell_type": "code",
   "execution_count": 4,
   "metadata": {},
   "outputs": [
    {
     "name": "stderr",
     "output_type": "stream",
     "text": [
      "/home/marianne/anaconda/envs/py36/lib/python3.6/site-packages/ipykernel_launcher.py:1: FutureWarning: from_csv is deprecated. Please use read_csv(...) instead. Note that some of the default arguments are different, so please refer to the documentation for from_csv when changing your function calls\n",
      "  \"\"\"Entry point for launching an IPython kernel.\n"
     ]
    }
   ],
   "source": [
    "X=pd.DataFrame.from_csv(\"pet_features\")\n",
    "y_train=pd.read_csv('annotations/trainval.txt', sep=\" \", header=None,index_col=0,usecols=[0,1])\n",
    "y_train=y_train.rename({1:\"label\"},axis=1)\n",
    "total_train=y_train.join(X).dropna()\n",
    "\n",
    "y_test=pd.read_csv('annotations/test.txt', sep=\" \", header=None,index_col=0,usecols=[0,1])\n",
    "y_test=y_test.rename({1:\"label\"},axis=1)\n",
    "total_test=y_test.join(X).dropna()"
   ]
  },
  {
   "cell_type": "markdown",
   "metadata": {},
   "source": [
    "Tuning LinearSVC"
   ]
  },
  {
   "cell_type": "code",
   "execution_count": 5,
   "metadata": {
    "collapsed": true
   },
   "outputs": [],
   "source": [
    "C_param = np.logspace(-2, 1, 5)\n",
    "param_grid = {'C': C_param}"
   ]
  },
  {
   "cell_type": "code",
   "execution_count": 6,
   "metadata": {},
   "outputs": [
    {
     "name": "stdout",
     "output_type": "stream",
     "text": [
      "Best parameters for LinearSVC {'C': 10.0} with associated validation score 0.7366847826086956\n"
     ]
    }
   ],
   "source": [
    "grid = GridSearchCV(LinearSVC(dual=False), param_grid,cv=5)\n",
    "grid.fit(total_train.drop(\"label\",axis=1),total_train.label)\n",
    "LinearSVC_ = grid.best_estimator_\n",
    "print(\"Best parameters for LinearSVC {} with associated validation score {}\".format(grid.best_params_,grid.best_score_))"
   ]
  },
  {
   "cell_type": "markdown",
   "metadata": {},
   "source": [
    "Test score"
   ]
  },
  {
   "cell_type": "code",
   "execution_count": 7,
   "metadata": {},
   "outputs": [
    {
     "name": "stdout",
     "output_type": "stream",
     "text": [
      "train score: 0.8217391304347826 , test score : 0.7606977378032161\n"
     ]
    }
   ],
   "source": [
    "LinearSVC_.fit(total_train.drop(\"label\",axis=1),total_train.label)\n",
    "print(\"train score: {} , test score : {}\".format(LinearSVC_.score(total_train.drop(\"label\",axis=1),total_train.label),\n",
    "                                                 LinearSVC_.score(total_test.drop(\"label\",axis=1),total_test.label)))"
   ]
  },
  {
   "cell_type": "code",
   "execution_count": null,
   "metadata": {
    "collapsed": true
   },
   "outputs": [],
   "source": []
  }
 ],
 "metadata": {
  "kernelspec": {
   "display_name": "Python 2",
   "language": "python",
   "name": "python2"
  },
  "language_info": {
   "codemirror_mode": {
    "name": "ipython",
    "version": 2
   },
   "file_extension": ".py",
   "mimetype": "text/x-python",
   "name": "python",
   "nbconvert_exporter": "python",
   "pygments_lexer": "ipython2",
   "version": "2.7.14"
  }
 },
 "nbformat": 4,
 "nbformat_minor": 2
}
